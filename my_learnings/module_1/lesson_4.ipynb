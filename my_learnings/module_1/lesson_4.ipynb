{
 "cells": [
  {
   "cell_type": "code",
   "execution_count": 1,
   "id": "937800e0",
   "metadata": {},
   "outputs": [
    {
     "name": "stdout",
     "output_type": "stream",
     "text": [
      "Original Question: What is LangGraph?\n",
      "Rewritten Question: Can you explain what LangGraph is?\n",
      "\n",
      "Final Answer:\n",
      "LangGraph is not a widely recognized term or product as of my last update in October 2023. It might refer to a concept, tool, or platform that has emerged recently or isn't well-documented in major databases or publications yet. However, I can speculate that the name suggests a connection to languages (perhaps programming, natural, or otherwise) and graph-based structures or methodologies, like graph databases, graph theory, or visualization tools.\n",
      "\n",
      "If LangGraph is a recent development, upcoming project, or niche technology, I recommend checking the latest sources or relevant websites, forums, or communities for the most current information. If you could provide more context or details about the context in which you've encountered LangGraph, I might be able to give a more targeted response.\n"
     ]
    }
   ],
   "source": [
    "import os\n",
    "from dotenv import load_dotenv\n",
    "from typing import TypedDict\n",
    "from langgraph.graph import StateGraph, START, END\n",
    "from langchain_openai import ChatOpenAI\n",
    "\n",
    "# Load API keys and set up tracing\n",
    "load_dotenv()\n",
    "os.environ[\"LANGCHAIN_TRACING_V2\"] = \"true\"\n",
    "os.environ[\"LANGSMITH_PROJECT\"] = \"Intro to LangGraph\"\n",
    "\n",
    "# Define the state for our multi-step graph\n",
    "class GraphState(TypedDict):\n",
    "    input: str\n",
    "    rewritten_question: str\n",
    "    output: str\n",
    "\n",
    "# Define our nodes\n",
    "def rewrite_question(state: GraphState):\n",
    "    # This node rephrases the user's question to be more specific\n",
    "    llm = ChatOpenAI(model=\"gpt-4o\")\n",
    "    user_input = state['input']\n",
    "    \n",
    "    rewriter_prompt = f\"Rephrase the following question to be more clear for an AI assistant: '{user_input}'\"\n",
    "    rewritten = llm.invoke(rewriter_prompt).content\n",
    "    \n",
    "    print(f\"Original Question: {user_input}\")\n",
    "    print(f\"Rewritten Question: {rewritten}\")\n",
    "    \n",
    "    return {\"rewritten_question\": rewritten}\n",
    "\n",
    "def call_llm(state: GraphState):\n",
    "    # This node answers the rewritten question\n",
    "    llm = ChatOpenAI(model=\"gpt-4o\")\n",
    "    rewritten_question = state['rewritten_question']\n",
    "    \n",
    "    response = llm.invoke(rewritten_question)\n",
    "    \n",
    "    return {\"output\": response.content}\n",
    "\n",
    "# Build the graph workflow\n",
    "workflow = StateGraph(GraphState)\n",
    "\n",
    "# Add the nodes to the graph\n",
    "workflow.add_node(\"rewriter\", rewrite_question)\n",
    "workflow.add_node(\"llm\", call_llm)\n",
    "\n",
    "# Set the entry point\n",
    "workflow.add_edge(START, \"rewriter\")\n",
    "\n",
    "# Connect the nodes to form a chain\n",
    "workflow.add_edge(\"rewriter\", \"llm\")\n",
    "\n",
    "# Set the exit point\n",
    "workflow.add_edge(\"llm\", END)\n",
    "\n",
    "# Compile the graph into a runnable app\n",
    "app = workflow.compile()\n",
    "\n",
    "# Run the app and print the final output\n",
    "final_state = app.invoke({\"input\": \"What is LangGraph?\"})\n",
    "print(\"\\nFinal Answer:\")\n",
    "print(final_state['output'])"
   ]
  }
 ],
 "metadata": {
  "kernelspec": {
   "display_name": ".venv (3.13.7)",
   "language": "python",
   "name": "python3"
  },
  "language_info": {
   "codemirror_mode": {
    "name": "ipython",
    "version": 3
   },
   "file_extension": ".py",
   "mimetype": "text/x-python",
   "name": "python",
   "nbconvert_exporter": "python",
   "pygments_lexer": "ipython3",
   "version": "3.13.7"
  }
 },
 "nbformat": 4,
 "nbformat_minor": 5
}
